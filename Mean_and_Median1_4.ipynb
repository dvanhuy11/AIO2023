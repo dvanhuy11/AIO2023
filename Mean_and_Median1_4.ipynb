{
  "nbformat": 4,
  "nbformat_minor": 0,
  "metadata": {
    "colab": {
      "provenance": [],
      "gpuType": "T4",
      "include_colab_link": true
    },
    "kernelspec": {
      "name": "python3",
      "display_name": "Python 3"
    },
    "language_info": {
      "name": "python"
    }
  },
  "cells": [
    {
      "cell_type": "markdown",
      "metadata": {
        "id": "view-in-github",
        "colab_type": "text"
      },
      "source": [
        "<a href=\"https://colab.research.google.com/github/dvanhuy11/AIO2023/blob/main/Mean_and_Median1_4.ipynb\" target=\"_parent\"><img src=\"https://colab.research.google.com/assets/colab-badge.svg\" alt=\"Open In Colab\"/></a>"
      ]
    },
    {
      "cell_type": "code",
      "execution_count": null,
      "metadata": {
        "colab": {
          "base_uri": "https://localhost:8080/"
        },
        "id": "X-Togli6pb2L",
        "outputId": "7876b04d-0065-4cb0-af8a-a80490ba4035",
        "is_executing": true
      },
      "outputs": [
        {
          "output_type": "stream",
          "name": "stdout",
          "text": [
            "Mean :  1.8\n"
          ]
        }
      ],
      "source": [
        "### Question 1\n",
        "import numpy as np\n",
        "\n",
        "def computeMean(X):\n",
        "  return sum(X) / len (X)\n",
        "\n",
        "X = [2, 0, 2, 2, 7, 4, -2, 5, -1, -1]\n",
        "\n",
        "print(\"Mean : \", computeMean(X))"
      ]
    },
    {
      "cell_type": "code",
      "source": [
        "### Question 2\n",
        "\n",
        "def computeMedian(X):\n",
        "  X = np.sort(X) # sắp xếp tăng dần\n",
        "  # X = np.sort(X) [::-1] sắp xếp giảm dần\n",
        "  size = len(X)\n",
        "  index  = (size - 1) // 2\n",
        "  if (size % 2 == 0):\n",
        "    return (X[index]+ X[index+1])*1/2\n",
        "  else:\n",
        "    return X[index] # // là chia lấy phần nguyên\n",
        "\n",
        "X = [1, 5, 4, 4, 9, 13]\n",
        "print(\"Median: \", computeMedian(X))"
      ],
      "metadata": {
        "colab": {
          "base_uri": "https://localhost:8080/"
        },
        "id": "2oitbCAMsCq4",
        "outputId": "472397be-66a0-4dda-919f-598f960e3b58",
        "is_executing": true
      },
      "execution_count": 11,
      "outputs": [
        {
          "output_type": "stream",
          "name": "stdout",
          "text": [
            "Median:  4.5\n"
          ]
        }
      ]
    },
    {
      "cell_type": "code",
      "source": [
        "from numpy.lib import math\n",
        "### Question 3\n",
        "def compute_std(X):\n",
        "  mean = computeMean(X)\n",
        "  variance = 0\n",
        "  for x in X:\n",
        "      variance += (x-mean)**2\n",
        "  variance = variance / len(X)\n",
        "\n",
        "  return np.sqrt(variance)\n",
        "\n",
        "X = [ 171, 176, 155, 167, 169, 182]\n",
        "print(np.round(compute_std(X),2))"
      ],
      "metadata": {
        "colab": {
          "base_uri": "https://localhost:8080/"
        },
        "id": "WZlZBmPsxdAH",
        "outputId": "a948744b-02ae-4fe6-fc03-4344e36da17b"
      },
      "execution_count": 13,
      "outputs": [
        {
          "output_type": "stream",
          "name": "stdout",
          "text": [
            "8.33\n"
          ]
        }
      ]
    },
    {
      "cell_type": "code",
      "source": [
        "### Question 4"
      ],
      "metadata": {
        "id": "wjTGUgy90n41"
      },
      "execution_count": null,
      "outputs": []
    },
    {
      "cell_type": "code",
      "source": [
        "def computeCorrelationCofficient(X, Y):\n",
        "  N = len(X)\n",
        "  sum_xi_yi = np.sum(X)*np.sum(Y)\n",
        "  numerator = N * X.dot(Y) - np.sum(X)*np.sum(Y)\n",
        "  denominator = np.sqrt(N*np.sum(np.square(X))-np.sum(X)**2) * np.sqrt(N*np.sum(np.square(Y))-np.sum(Y)**2)\n",
        "\n",
        "  return np.round(numerator / denominator,2)\n",
        "\n",
        "X = np.asarray([-2, -5, -11, 6, 4, 15, 9])\n",
        "Y = np.asarray([4, 25, 121, 36, 16, 225, 81])\n",
        "print(\"Correlation: \", computeCorrelationCofficient(X,Y))"
      ],
      "metadata": {
        "colab": {
          "base_uri": "https://localhost:8080/"
        },
        "id": "Bqly9y-F0prw",
        "outputId": "b0be259e-a85f-43dd-d6fb-702631846d96"
      },
      "execution_count": 14,
      "outputs": [
        {
          "output_type": "stream",
          "name": "stdout",
          "text": [
            "Correlation:  0.42\n"
          ]
        }
      ]
    }
  ]
}