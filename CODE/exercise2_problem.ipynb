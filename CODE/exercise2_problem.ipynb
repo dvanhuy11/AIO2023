{
  "cells": [
    {
      "cell_type": "markdown",
      "metadata": {
        "id": "DMR7NS_c_ixY"
      },
      "source": [
        "## Exercise 2"
      ]
    },
    {
      "cell_type": "code",
      "execution_count": null,
      "metadata": {
        "id": "W4MIo7nPzg16"
      },
      "outputs": [],
      "source": [
        "import random\n",
        "\n",
        "def f(x):\n",
        "    return 3*x**4 - 4*x**2 - 6*x - 3\n",
        "\n",
        "def gradient(func, x, epsilon=1e-10):\n",
        "    return (func(x+epsilon/2) - func(x-epsilon/2) ) / epsilon\n",
        "\n",
        "x = 3.0\n",
        "print(\"initial x: \", x)\n",
        "\n",
        "def find_minimum(f, x, num_iteration, step):\n",
        "    #Your code here .....\n",
        "    return x \n",
        "\n",
        "x = find_minimum(f=f, x=x, num_iteration=100, step=0.2)\n",
        "print(round(x,2))"
      ]
    },
    {
      "cell_type": "markdown",
      "metadata": {
        "id": "QyI0fUYfU5oK"
      },
      "source": [
        "--------------------------"
      ]
    }
  ],
  "metadata": {
    "colab": {
      "provenance": []
    },
    "kernelspec": {
      "display_name": "Python 3 (ipykernel)",
      "language": "python",
      "name": "python3"
    },
    "language_info": {
      "codemirror_mode": {
        "name": "ipython",
        "version": 3
      },
      "file_extension": ".py",
      "mimetype": "text/x-python",
      "name": "python",
      "nbconvert_exporter": "python",
      "pygments_lexer": "ipython3",
      "version": "3.9.13"
    }
  },
  "nbformat": 4,
  "nbformat_minor": 0
}