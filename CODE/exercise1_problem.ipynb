{
  "nbformat": 4,
  "nbformat_minor": 0,
  "metadata": {
    "colab": {
      "provenance": []
    },
    "kernelspec": {
      "name": "python3",
      "display_name": "Python 3"
    },
    "language_info": {
      "name": "python"
    }
  },
  "cells": [
    {
      "cell_type": "markdown",
      "source": [
        "## Exercise 1"
      ],
      "metadata": {
        "id": "dY7rUQKLGic0"
      }
    },
    {
      "cell_type": "code",
      "execution_count": null,
      "metadata": {
        "id": "r3UfnkWws5q8"
      },
      "outputs": [],
      "source": [
        "import numpy as np\n",
        "import matplotlib.pyplot as plt"
      ]
    },
    {
      "cell_type": "code",
      "source": [
        "def plot_function_and_derivative(x, func, derivative):\n",
        "    \n",
        "    # setting the axes at the centre\n",
        "    fig, ax = plt.subplots(figsize=(10, 5))\n",
        "    ax.spines['left'].set_position('center')\n",
        "    ax.spines['bottom'].set_position('zero')\n",
        "    ax.spines['right'].set_color('none')\n",
        "    ax.spines['top'].set_color('none')\n",
        "    ax.xaxis.set_ticks_position('bottom')\n",
        "    ax.yaxis.set_ticks_position('left')\n",
        "\n",
        "    # plot the function\n",
        "    ax.plot(x,func(x), color=\"#d35400\", linewidth=3, label=func.__name__)\n",
        "    ax.plot(x,derivative(x), color=\"#1abd15\", linewidth=3, label=derivative.__name__)\n",
        "    \n",
        "    ax.legend(loc=\"upper left\", frameon=False)\n",
        "    plt.show()"
      ],
      "metadata": {
        "id": "6iscrJ63tEd9"
      },
      "execution_count": null,
      "outputs": []
    },
    {
      "cell_type": "markdown",
      "source": [
        "![image.png](data:image/png;base64,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)"
      ],
      "metadata": {
        "id": "xrvkOqlhtMGF"
      }
    },
    {
      "cell_type": "code",
      "source": [
        "def sigmoid(x):                                        \n",
        "    return 1 / (1 + np.exp(-x))\n",
        "\n",
        "def sigmoid_derivative(x):\n",
        "    y = sigmoid(x)\n",
        "    return y*(1-y)"
      ],
      "metadata": {
        "id": "ImXG6Ii7tEyd"
      },
      "execution_count": null,
      "outputs": []
    },
    {
      "cell_type": "code",
      "source": [
        "x = np.arange(-5, 5, 0.01)"
      ],
      "metadata": {
        "id": "Xpin8MqOEMV6"
      },
      "execution_count": null,
      "outputs": []
    },
    {
      "cell_type": "code",
      "source": [
        "x"
      ],
      "metadata": {
        "colab": {
          "base_uri": "https://localhost:8080/"
        },
        "id": "fGgEt_EdESAE",
        "outputId": "3d15393e-ccae-4b98-b6ca-c7a61fd01ec3"
      },
      "execution_count": null,
      "outputs": [
        {
          "output_type": "execute_result",
          "data": {
            "text/plain": [
              "array([-5.0000000e+00, -4.9900000e+00, -4.9800000e+00, -4.9700000e+00,\n",
              "       -4.9600000e+00, -4.9500000e+00, -4.9400000e+00, -4.9300000e+00,\n",
              "       -4.9200000e+00, -4.9100000e+00, -4.9000000e+00, -4.8900000e+00,\n",
              "       -4.8800000e+00, -4.8700000e+00, -4.8600000e+00, -4.8500000e+00,\n",
              "       -4.8400000e+00, -4.8300000e+00, -4.8200000e+00, -4.8100000e+00,\n",
              "       -4.8000000e+00, -4.7900000e+00, -4.7800000e+00, -4.7700000e+00,\n",
              "       -4.7600000e+00, -4.7500000e+00, -4.7400000e+00, -4.7300000e+00,\n",
              "       -4.7200000e+00, -4.7100000e+00, -4.7000000e+00, -4.6900000e+00,\n",
              "       -4.6800000e+00, -4.6700000e+00, -4.6600000e+00, -4.6500000e+00,\n",
              "       -4.6400000e+00, -4.6300000e+00, -4.6200000e+00, -4.6100000e+00,\n",
              "       -4.6000000e+00, -4.5900000e+00, -4.5800000e+00, -4.5700000e+00,\n",
              "       -4.5600000e+00, -4.5500000e+00, -4.5400000e+00, -4.5300000e+00,\n",
              "       -4.5200000e+00, -4.5100000e+00, -4.5000000e+00, -4.4900000e+00,\n",
              "       -4.4800000e+00, -4.4700000e+00, -4.4600000e+00, -4.4500000e+00,\n",
              "       -4.4400000e+00, -4.4300000e+00, -4.4200000e+00, -4.4100000e+00,\n",
              "       -4.4000000e+00, -4.3900000e+00, -4.3800000e+00, -4.3700000e+00,\n",
              "       -4.3600000e+00, -4.3500000e+00, -4.3400000e+00, -4.3300000e+00,\n",
              "       -4.3200000e+00, -4.3100000e+00, -4.3000000e+00, -4.2900000e+00,\n",
              "       -4.2800000e+00, -4.2700000e+00, -4.2600000e+00, -4.2500000e+00,\n",
              "       -4.2400000e+00, -4.2300000e+00, -4.2200000e+00, -4.2100000e+00,\n",
              "       -4.2000000e+00, -4.1900000e+00, -4.1800000e+00, -4.1700000e+00,\n",
              "       -4.1600000e+00, -4.1500000e+00, -4.1400000e+00, -4.1300000e+00,\n",
              "       -4.1200000e+00, -4.1100000e+00, -4.1000000e+00, -4.0900000e+00,\n",
              "       -4.0800000e+00, -4.0700000e+00, -4.0600000e+00, -4.0500000e+00,\n",
              "       -4.0400000e+00, -4.0300000e+00, -4.0200000e+00, -4.0100000e+00,\n",
              "       -4.0000000e+00, -3.9900000e+00, -3.9800000e+00, -3.9700000e+00,\n",
              "       -3.9600000e+00, -3.9500000e+00, -3.9400000e+00, -3.9300000e+00,\n",
              "       -3.9200000e+00, -3.9100000e+00, -3.9000000e+00, -3.8900000e+00,\n",
              "       -3.8800000e+00, -3.8700000e+00, -3.8600000e+00, -3.8500000e+00,\n",
              "       -3.8400000e+00, -3.8300000e+00, -3.8200000e+00, -3.8100000e+00,\n",
              "       -3.8000000e+00, -3.7900000e+00, -3.7800000e+00, -3.7700000e+00,\n",
              "       -3.7600000e+00, -3.7500000e+00, -3.7400000e+00, -3.7300000e+00,\n",
              "       -3.7200000e+00, -3.7100000e+00, -3.7000000e+00, -3.6900000e+00,\n",
              "       -3.6800000e+00, -3.6700000e+00, -3.6600000e+00, -3.6500000e+00,\n",
              "       -3.6400000e+00, -3.6300000e+00, -3.6200000e+00, -3.6100000e+00,\n",
              "       -3.6000000e+00, -3.5900000e+00, -3.5800000e+00, -3.5700000e+00,\n",
              "       -3.5600000e+00, -3.5500000e+00, -3.5400000e+00, -3.5300000e+00,\n",
              "       -3.5200000e+00, -3.5100000e+00, -3.5000000e+00, -3.4900000e+00,\n",
              "       -3.4800000e+00, -3.4700000e+00, -3.4600000e+00, -3.4500000e+00,\n",
              "       -3.4400000e+00, -3.4300000e+00, -3.4200000e+00, -3.4100000e+00,\n",
              "       -3.4000000e+00, -3.3900000e+00, -3.3800000e+00, -3.3700000e+00,\n",
              "       -3.3600000e+00, -3.3500000e+00, -3.3400000e+00, -3.3300000e+00,\n",
              "       -3.3200000e+00, -3.3100000e+00, -3.3000000e+00, -3.2900000e+00,\n",
              "       -3.2800000e+00, -3.2700000e+00, -3.2600000e+00, -3.2500000e+00,\n",
              "       -3.2400000e+00, -3.2300000e+00, -3.2200000e+00, -3.2100000e+00,\n",
              "       -3.2000000e+00, -3.1900000e+00, -3.1800000e+00, -3.1700000e+00,\n",
              "       -3.1600000e+00, -3.1500000e+00, -3.1400000e+00, -3.1300000e+00,\n",
              "       -3.1200000e+00, -3.1100000e+00, -3.1000000e+00, -3.0900000e+00,\n",
              "       -3.0800000e+00, -3.0700000e+00, -3.0600000e+00, -3.0500000e+00,\n",
              "       -3.0400000e+00, -3.0300000e+00, -3.0200000e+00, -3.0100000e+00,\n",
              "       -3.0000000e+00, -2.9900000e+00, -2.9800000e+00, -2.9700000e+00,\n",
              "       -2.9600000e+00, -2.9500000e+00, -2.9400000e+00, -2.9300000e+00,\n",
              "       -2.9200000e+00, -2.9100000e+00, -2.9000000e+00, -2.8900000e+00,\n",
              "       -2.8800000e+00, -2.8700000e+00, -2.8600000e+00, -2.8500000e+00,\n",
              "       -2.8400000e+00, -2.8300000e+00, -2.8200000e+00, -2.8100000e+00,\n",
              "       -2.8000000e+00, -2.7900000e+00, -2.7800000e+00, -2.7700000e+00,\n",
              "       -2.7600000e+00, -2.7500000e+00, -2.7400000e+00, -2.7300000e+00,\n",
              "       -2.7200000e+00, -2.7100000e+00, -2.7000000e+00, -2.6900000e+00,\n",
              "       -2.6800000e+00, -2.6700000e+00, -2.6600000e+00, -2.6500000e+00,\n",
              "       -2.6400000e+00, -2.6300000e+00, -2.6200000e+00, -2.6100000e+00,\n",
              "       -2.6000000e+00, -2.5900000e+00, -2.5800000e+00, -2.5700000e+00,\n",
              "       -2.5600000e+00, -2.5500000e+00, -2.5400000e+00, -2.5300000e+00,\n",
              "       -2.5200000e+00, -2.5100000e+00, -2.5000000e+00, -2.4900000e+00,\n",
              "       -2.4800000e+00, -2.4700000e+00, -2.4600000e+00, -2.4500000e+00,\n",
              "       -2.4400000e+00, -2.4300000e+00, -2.4200000e+00, -2.4100000e+00,\n",
              "       -2.4000000e+00, -2.3900000e+00, -2.3800000e+00, -2.3700000e+00,\n",
              "       -2.3600000e+00, -2.3500000e+00, -2.3400000e+00, -2.3300000e+00,\n",
              "       -2.3200000e+00, -2.3100000e+00, -2.3000000e+00, -2.2900000e+00,\n",
              "       -2.2800000e+00, -2.2700000e+00, -2.2600000e+00, -2.2500000e+00,\n",
              "       -2.2400000e+00, -2.2300000e+00, -2.2200000e+00, -2.2100000e+00,\n",
              "       -2.2000000e+00, -2.1900000e+00, -2.1800000e+00, -2.1700000e+00,\n",
              "       -2.1600000e+00, -2.1500000e+00, -2.1400000e+00, -2.1300000e+00,\n",
              "       -2.1200000e+00, -2.1100000e+00, -2.1000000e+00, -2.0900000e+00,\n",
              "       -2.0800000e+00, -2.0700000e+00, -2.0600000e+00, -2.0500000e+00,\n",
              "       -2.0400000e+00, -2.0300000e+00, -2.0200000e+00, -2.0100000e+00,\n",
              "       -2.0000000e+00, -1.9900000e+00, -1.9800000e+00, -1.9700000e+00,\n",
              "       -1.9600000e+00, -1.9500000e+00, -1.9400000e+00, -1.9300000e+00,\n",
              "       -1.9200000e+00, -1.9100000e+00, -1.9000000e+00, -1.8900000e+00,\n",
              "       -1.8800000e+00, -1.8700000e+00, -1.8600000e+00, -1.8500000e+00,\n",
              "       -1.8400000e+00, -1.8300000e+00, -1.8200000e+00, -1.8100000e+00,\n",
              "       -1.8000000e+00, -1.7900000e+00, -1.7800000e+00, -1.7700000e+00,\n",
              "       -1.7600000e+00, -1.7500000e+00, -1.7400000e+00, -1.7300000e+00,\n",
              "       -1.7200000e+00, -1.7100000e+00, -1.7000000e+00, -1.6900000e+00,\n",
              "       -1.6800000e+00, -1.6700000e+00, -1.6600000e+00, -1.6500000e+00,\n",
              "       -1.6400000e+00, -1.6300000e+00, -1.6200000e+00, -1.6100000e+00,\n",
              "       -1.6000000e+00, -1.5900000e+00, -1.5800000e+00, -1.5700000e+00,\n",
              "       -1.5600000e+00, -1.5500000e+00, -1.5400000e+00, -1.5300000e+00,\n",
              "       -1.5200000e+00, -1.5100000e+00, -1.5000000e+00, -1.4900000e+00,\n",
              "       -1.4800000e+00, -1.4700000e+00, -1.4600000e+00, -1.4500000e+00,\n",
              "       -1.4400000e+00, -1.4300000e+00, -1.4200000e+00, -1.4100000e+00,\n",
              "       -1.4000000e+00, -1.3900000e+00, -1.3800000e+00, -1.3700000e+00,\n",
              "       -1.3600000e+00, -1.3500000e+00, -1.3400000e+00, -1.3300000e+00,\n",
              "       -1.3200000e+00, -1.3100000e+00, -1.3000000e+00, -1.2900000e+00,\n",
              "       -1.2800000e+00, -1.2700000e+00, -1.2600000e+00, -1.2500000e+00,\n",
              "       -1.2400000e+00, -1.2300000e+00, -1.2200000e+00, -1.2100000e+00,\n",
              "       -1.2000000e+00, -1.1900000e+00, -1.1800000e+00, -1.1700000e+00,\n",
              "       -1.1600000e+00, -1.1500000e+00, -1.1400000e+00, -1.1300000e+00,\n",
              "       -1.1200000e+00, -1.1100000e+00, -1.1000000e+00, -1.0900000e+00,\n",
              "       -1.0800000e+00, -1.0700000e+00, -1.0600000e+00, -1.0500000e+00,\n",
              "       -1.0400000e+00, -1.0300000e+00, -1.0200000e+00, -1.0100000e+00,\n",
              "       -1.0000000e+00, -9.9000000e-01, -9.8000000e-01, -9.7000000e-01,\n",
              "       -9.6000000e-01, -9.5000000e-01, -9.4000000e-01, -9.3000000e-01,\n",
              "       -9.2000000e-01, -9.1000000e-01, -9.0000000e-01, -8.9000000e-01,\n",
              "       -8.8000000e-01, -8.7000000e-01, -8.6000000e-01, -8.5000000e-01,\n",
              "       -8.4000000e-01, -8.3000000e-01, -8.2000000e-01, -8.1000000e-01,\n",
              "       -8.0000000e-01, -7.9000000e-01, -7.8000000e-01, -7.7000000e-01,\n",
              "       -7.6000000e-01, -7.5000000e-01, -7.4000000e-01, -7.3000000e-01,\n",
              "       -7.2000000e-01, -7.1000000e-01, -7.0000000e-01, -6.9000000e-01,\n",
              "       -6.8000000e-01, -6.7000000e-01, -6.6000000e-01, -6.5000000e-01,\n",
              "       -6.4000000e-01, -6.3000000e-01, -6.2000000e-01, -6.1000000e-01,\n",
              "       -6.0000000e-01, -5.9000000e-01, -5.8000000e-01, -5.7000000e-01,\n",
              "       -5.6000000e-01, -5.5000000e-01, -5.4000000e-01, -5.3000000e-01,\n",
              "       -5.2000000e-01, -5.1000000e-01, -5.0000000e-01, -4.9000000e-01,\n",
              "       -4.8000000e-01, -4.7000000e-01, -4.6000000e-01, -4.5000000e-01,\n",
              "       -4.4000000e-01, -4.3000000e-01, -4.2000000e-01, -4.1000000e-01,\n",
              "       -4.0000000e-01, -3.9000000e-01, -3.8000000e-01, -3.7000000e-01,\n",
              "       -3.6000000e-01, -3.5000000e-01, -3.4000000e-01, -3.3000000e-01,\n",
              "       -3.2000000e-01, -3.1000000e-01, -3.0000000e-01, -2.9000000e-01,\n",
              "       -2.8000000e-01, -2.7000000e-01, -2.6000000e-01, -2.5000000e-01,\n",
              "       -2.4000000e-01, -2.3000000e-01, -2.2000000e-01, -2.1000000e-01,\n",
              "       -2.0000000e-01, -1.9000000e-01, -1.8000000e-01, -1.7000000e-01,\n",
              "       -1.6000000e-01, -1.5000000e-01, -1.4000000e-01, -1.3000000e-01,\n",
              "       -1.2000000e-01, -1.1000000e-01, -1.0000000e-01, -9.0000000e-02,\n",
              "       -8.0000000e-02, -7.0000000e-02, -6.0000000e-02, -5.0000000e-02,\n",
              "       -4.0000000e-02, -3.0000000e-02, -2.0000000e-02, -1.0000000e-02,\n",
              "       -1.0658141e-13,  1.0000000e-02,  2.0000000e-02,  3.0000000e-02,\n",
              "        4.0000000e-02,  5.0000000e-02,  6.0000000e-02,  7.0000000e-02,\n",
              "        8.0000000e-02,  9.0000000e-02,  1.0000000e-01,  1.1000000e-01,\n",
              "        1.2000000e-01,  1.3000000e-01,  1.4000000e-01,  1.5000000e-01,\n",
              "        1.6000000e-01,  1.7000000e-01,  1.8000000e-01,  1.9000000e-01,\n",
              "        2.0000000e-01,  2.1000000e-01,  2.2000000e-01,  2.3000000e-01,\n",
              "        2.4000000e-01,  2.5000000e-01,  2.6000000e-01,  2.7000000e-01,\n",
              "        2.8000000e-01,  2.9000000e-01,  3.0000000e-01,  3.1000000e-01,\n",
              "        3.2000000e-01,  3.3000000e-01,  3.4000000e-01,  3.5000000e-01,\n",
              "        3.6000000e-01,  3.7000000e-01,  3.8000000e-01,  3.9000000e-01,\n",
              "        4.0000000e-01,  4.1000000e-01,  4.2000000e-01,  4.3000000e-01,\n",
              "        4.4000000e-01,  4.5000000e-01,  4.6000000e-01,  4.7000000e-01,\n",
              "        4.8000000e-01,  4.9000000e-01,  5.0000000e-01,  5.1000000e-01,\n",
              "        5.2000000e-01,  5.3000000e-01,  5.4000000e-01,  5.5000000e-01,\n",
              "        5.6000000e-01,  5.7000000e-01,  5.8000000e-01,  5.9000000e-01,\n",
              "        6.0000000e-01,  6.1000000e-01,  6.2000000e-01,  6.3000000e-01,\n",
              "        6.4000000e-01,  6.5000000e-01,  6.6000000e-01,  6.7000000e-01,\n",
              "        6.8000000e-01,  6.9000000e-01,  7.0000000e-01,  7.1000000e-01,\n",
              "        7.2000000e-01,  7.3000000e-01,  7.4000000e-01,  7.5000000e-01,\n",
              "        7.6000000e-01,  7.7000000e-01,  7.8000000e-01,  7.9000000e-01,\n",
              "        8.0000000e-01,  8.1000000e-01,  8.2000000e-01,  8.3000000e-01,\n",
              "        8.4000000e-01,  8.5000000e-01,  8.6000000e-01,  8.7000000e-01,\n",
              "        8.8000000e-01,  8.9000000e-01,  9.0000000e-01,  9.1000000e-01,\n",
              "        9.2000000e-01,  9.3000000e-01,  9.4000000e-01,  9.5000000e-01,\n",
              "        9.6000000e-01,  9.7000000e-01,  9.8000000e-01,  9.9000000e-01,\n",
              "        1.0000000e+00,  1.0100000e+00,  1.0200000e+00,  1.0300000e+00,\n",
              "        1.0400000e+00,  1.0500000e+00,  1.0600000e+00,  1.0700000e+00,\n",
              "        1.0800000e+00,  1.0900000e+00,  1.1000000e+00,  1.1100000e+00,\n",
              "        1.1200000e+00,  1.1300000e+00,  1.1400000e+00,  1.1500000e+00,\n",
              "        1.1600000e+00,  1.1700000e+00,  1.1800000e+00,  1.1900000e+00,\n",
              "        1.2000000e+00,  1.2100000e+00,  1.2200000e+00,  1.2300000e+00,\n",
              "        1.2400000e+00,  1.2500000e+00,  1.2600000e+00,  1.2700000e+00,\n",
              "        1.2800000e+00,  1.2900000e+00,  1.3000000e+00,  1.3100000e+00,\n",
              "        1.3200000e+00,  1.3300000e+00,  1.3400000e+00,  1.3500000e+00,\n",
              "        1.3600000e+00,  1.3700000e+00,  1.3800000e+00,  1.3900000e+00,\n",
              "        1.4000000e+00,  1.4100000e+00,  1.4200000e+00,  1.4300000e+00,\n",
              "        1.4400000e+00,  1.4500000e+00,  1.4600000e+00,  1.4700000e+00,\n",
              "        1.4800000e+00,  1.4900000e+00,  1.5000000e+00,  1.5100000e+00,\n",
              "        1.5200000e+00,  1.5300000e+00,  1.5400000e+00,  1.5500000e+00,\n",
              "        1.5600000e+00,  1.5700000e+00,  1.5800000e+00,  1.5900000e+00,\n",
              "        1.6000000e+00,  1.6100000e+00,  1.6200000e+00,  1.6300000e+00,\n",
              "        1.6400000e+00,  1.6500000e+00,  1.6600000e+00,  1.6700000e+00,\n",
              "        1.6800000e+00,  1.6900000e+00,  1.7000000e+00,  1.7100000e+00,\n",
              "        1.7200000e+00,  1.7300000e+00,  1.7400000e+00,  1.7500000e+00,\n",
              "        1.7600000e+00,  1.7700000e+00,  1.7800000e+00,  1.7900000e+00,\n",
              "        1.8000000e+00,  1.8100000e+00,  1.8200000e+00,  1.8300000e+00,\n",
              "        1.8400000e+00,  1.8500000e+00,  1.8600000e+00,  1.8700000e+00,\n",
              "        1.8800000e+00,  1.8900000e+00,  1.9000000e+00,  1.9100000e+00,\n",
              "        1.9200000e+00,  1.9300000e+00,  1.9400000e+00,  1.9500000e+00,\n",
              "        1.9600000e+00,  1.9700000e+00,  1.9800000e+00,  1.9900000e+00,\n",
              "        2.0000000e+00,  2.0100000e+00,  2.0200000e+00,  2.0300000e+00,\n",
              "        2.0400000e+00,  2.0500000e+00,  2.0600000e+00,  2.0700000e+00,\n",
              "        2.0800000e+00,  2.0900000e+00,  2.1000000e+00,  2.1100000e+00,\n",
              "        2.1200000e+00,  2.1300000e+00,  2.1400000e+00,  2.1500000e+00,\n",
              "        2.1600000e+00,  2.1700000e+00,  2.1800000e+00,  2.1900000e+00,\n",
              "        2.2000000e+00,  2.2100000e+00,  2.2200000e+00,  2.2300000e+00,\n",
              "        2.2400000e+00,  2.2500000e+00,  2.2600000e+00,  2.2700000e+00,\n",
              "        2.2800000e+00,  2.2900000e+00,  2.3000000e+00,  2.3100000e+00,\n",
              "        2.3200000e+00,  2.3300000e+00,  2.3400000e+00,  2.3500000e+00,\n",
              "        2.3600000e+00,  2.3700000e+00,  2.3800000e+00,  2.3900000e+00,\n",
              "        2.4000000e+00,  2.4100000e+00,  2.4200000e+00,  2.4300000e+00,\n",
              "        2.4400000e+00,  2.4500000e+00,  2.4600000e+00,  2.4700000e+00,\n",
              "        2.4800000e+00,  2.4900000e+00,  2.5000000e+00,  2.5100000e+00,\n",
              "        2.5200000e+00,  2.5300000e+00,  2.5400000e+00,  2.5500000e+00,\n",
              "        2.5600000e+00,  2.5700000e+00,  2.5800000e+00,  2.5900000e+00,\n",
              "        2.6000000e+00,  2.6100000e+00,  2.6200000e+00,  2.6300000e+00,\n",
              "        2.6400000e+00,  2.6500000e+00,  2.6600000e+00,  2.6700000e+00,\n",
              "        2.6800000e+00,  2.6900000e+00,  2.7000000e+00,  2.7100000e+00,\n",
              "        2.7200000e+00,  2.7300000e+00,  2.7400000e+00,  2.7500000e+00,\n",
              "        2.7600000e+00,  2.7700000e+00,  2.7800000e+00,  2.7900000e+00,\n",
              "        2.8000000e+00,  2.8100000e+00,  2.8200000e+00,  2.8300000e+00,\n",
              "        2.8400000e+00,  2.8500000e+00,  2.8600000e+00,  2.8700000e+00,\n",
              "        2.8800000e+00,  2.8900000e+00,  2.9000000e+00,  2.9100000e+00,\n",
              "        2.9200000e+00,  2.9300000e+00,  2.9400000e+00,  2.9500000e+00,\n",
              "        2.9600000e+00,  2.9700000e+00,  2.9800000e+00,  2.9900000e+00,\n",
              "        3.0000000e+00,  3.0100000e+00,  3.0200000e+00,  3.0300000e+00,\n",
              "        3.0400000e+00,  3.0500000e+00,  3.0600000e+00,  3.0700000e+00,\n",
              "        3.0800000e+00,  3.0900000e+00,  3.1000000e+00,  3.1100000e+00,\n",
              "        3.1200000e+00,  3.1300000e+00,  3.1400000e+00,  3.1500000e+00,\n",
              "        3.1600000e+00,  3.1700000e+00,  3.1800000e+00,  3.1900000e+00,\n",
              "        3.2000000e+00,  3.2100000e+00,  3.2200000e+00,  3.2300000e+00,\n",
              "        3.2400000e+00,  3.2500000e+00,  3.2600000e+00,  3.2700000e+00,\n",
              "        3.2800000e+00,  3.2900000e+00,  3.3000000e+00,  3.3100000e+00,\n",
              "        3.3200000e+00,  3.3300000e+00,  3.3400000e+00,  3.3500000e+00,\n",
              "        3.3600000e+00,  3.3700000e+00,  3.3800000e+00,  3.3900000e+00,\n",
              "        3.4000000e+00,  3.4100000e+00,  3.4200000e+00,  3.4300000e+00,\n",
              "        3.4400000e+00,  3.4500000e+00,  3.4600000e+00,  3.4700000e+00,\n",
              "        3.4800000e+00,  3.4900000e+00,  3.5000000e+00,  3.5100000e+00,\n",
              "        3.5200000e+00,  3.5300000e+00,  3.5400000e+00,  3.5500000e+00,\n",
              "        3.5600000e+00,  3.5700000e+00,  3.5800000e+00,  3.5900000e+00,\n",
              "        3.6000000e+00,  3.6100000e+00,  3.6200000e+00,  3.6300000e+00,\n",
              "        3.6400000e+00,  3.6500000e+00,  3.6600000e+00,  3.6700000e+00,\n",
              "        3.6800000e+00,  3.6900000e+00,  3.7000000e+00,  3.7100000e+00,\n",
              "        3.7200000e+00,  3.7300000e+00,  3.7400000e+00,  3.7500000e+00,\n",
              "        3.7600000e+00,  3.7700000e+00,  3.7800000e+00,  3.7900000e+00,\n",
              "        3.8000000e+00,  3.8100000e+00,  3.8200000e+00,  3.8300000e+00,\n",
              "        3.8400000e+00,  3.8500000e+00,  3.8600000e+00,  3.8700000e+00,\n",
              "        3.8800000e+00,  3.8900000e+00,  3.9000000e+00,  3.9100000e+00,\n",
              "        3.9200000e+00,  3.9300000e+00,  3.9400000e+00,  3.9500000e+00,\n",
              "        3.9600000e+00,  3.9700000e+00,  3.9800000e+00,  3.9900000e+00,\n",
              "        4.0000000e+00,  4.0100000e+00,  4.0200000e+00,  4.0300000e+00,\n",
              "        4.0400000e+00,  4.0500000e+00,  4.0600000e+00,  4.0700000e+00,\n",
              "        4.0800000e+00,  4.0900000e+00,  4.1000000e+00,  4.1100000e+00,\n",
              "        4.1200000e+00,  4.1300000e+00,  4.1400000e+00,  4.1500000e+00,\n",
              "        4.1600000e+00,  4.1700000e+00,  4.1800000e+00,  4.1900000e+00,\n",
              "        4.2000000e+00,  4.2100000e+00,  4.2200000e+00,  4.2300000e+00,\n",
              "        4.2400000e+00,  4.2500000e+00,  4.2600000e+00,  4.2700000e+00,\n",
              "        4.2800000e+00,  4.2900000e+00,  4.3000000e+00,  4.3100000e+00,\n",
              "        4.3200000e+00,  4.3300000e+00,  4.3400000e+00,  4.3500000e+00,\n",
              "        4.3600000e+00,  4.3700000e+00,  4.3800000e+00,  4.3900000e+00,\n",
              "        4.4000000e+00,  4.4100000e+00,  4.4200000e+00,  4.4300000e+00,\n",
              "        4.4400000e+00,  4.4500000e+00,  4.4600000e+00,  4.4700000e+00,\n",
              "        4.4800000e+00,  4.4900000e+00,  4.5000000e+00,  4.5100000e+00,\n",
              "        4.5200000e+00,  4.5300000e+00,  4.5400000e+00,  4.5500000e+00,\n",
              "        4.5600000e+00,  4.5700000e+00,  4.5800000e+00,  4.5900000e+00,\n",
              "        4.6000000e+00,  4.6100000e+00,  4.6200000e+00,  4.6300000e+00,\n",
              "        4.6400000e+00,  4.6500000e+00,  4.6600000e+00,  4.6700000e+00,\n",
              "        4.6800000e+00,  4.6900000e+00,  4.7000000e+00,  4.7100000e+00,\n",
              "        4.7200000e+00,  4.7300000e+00,  4.7400000e+00,  4.7500000e+00,\n",
              "        4.7600000e+00,  4.7700000e+00,  4.7800000e+00,  4.7900000e+00,\n",
              "        4.8000000e+00,  4.8100000e+00,  4.8200000e+00,  4.8300000e+00,\n",
              "        4.8400000e+00,  4.8500000e+00,  4.8600000e+00,  4.8700000e+00,\n",
              "        4.8800000e+00,  4.8900000e+00,  4.9000000e+00,  4.9100000e+00,\n",
              "        4.9200000e+00,  4.9300000e+00,  4.9400000e+00,  4.9500000e+00,\n",
              "        4.9600000e+00,  4.9700000e+00,  4.9800000e+00,  4.9900000e+00])"
            ]
          },
          "metadata": {},
          "execution_count": 5
        }
      ]
    },
    {
      "cell_type": "code",
      "source": [
        "plot_function_and_derivative(x, sigmoid, sigmoid_derivative)"
      ],
      "metadata": {
        "colab": {
          "base_uri": "https://localhost:8080/",
          "height": 309
        },
        "id": "lTsEIEHBtQ7I",
        "outputId": "30a24965-2a18-4ef6-f2b9-3c91c881dd82"
      },
      "execution_count": null,
      "outputs": [
        {
          "output_type": "display_data",
          "data": {
            "text/plain": [
              "<Figure size 720x360 with 1 Axes>"
            ],
            "image/png": "[encoded data removed]"
          },
          "metadata": {
            "needs_background": "light"
          }
        }
      ]
    },
    {
      "cell_type": "code",
      "source": [],
      "metadata": {
        "id": "rYtBcj4XtUe4"
      },
      "execution_count": null,
      "outputs": []
    },
    {
      "cell_type": "code",
      "source": [],
      "metadata": {
        "id": "GhITjDYNFuzo"
      },
      "execution_count": null,
      "outputs": []
    },
    {
      "cell_type": "code",
      "source": [],
      "metadata": {
        "id": "FQ4CZuH7Fu4r"
      },
      "execution_count": null,
      "outputs": []
    },
    {
      "cell_type": "code",
      "source": [
        "impo"
      ],
      "metadata": {
        "id": "MTKz-DR_Fu8c"
      },
      "execution_count": null,
      "outputs": []
    },
    {
      "cell_type": "code",
      "source": [],
      "metadata": {
        "id": "s__CwNBMFu_f"
      },
      "execution_count": null,
      "outputs": []
    },
    {
      "cell_type": "code",
      "source": [],
      "metadata": {
        "id": "GLSWMtPWFvCc"
      },
      "execution_count": null,
      "outputs": []
    },
    {
      "cell_type": "code",
      "source": [],
      "metadata": {
        "id": "6NBifxXPFvFD"
      },
      "execution_count": null,
      "outputs": []
    },
    {
      "cell_type": "code",
      "source": [],
      "metadata": {
        "id": "iFcz7RdpFvHq"
      },
      "execution_count": null,
      "outputs": []
    },
    {
      "cell_type": "code",
      "source": [],
      "metadata": {
        "id": "fEnD-qTtFvKG"
      },
      "execution_count": null,
      "outputs": []
    },
    {
      "cell_type": "code",
      "source": [],
      "metadata": {
        "id": "RtDUlirrFvMm"
      },
      "execution_count": null,
      "outputs": []
    },
    {
      "cell_type": "code",
      "source": [],
      "metadata": {
        "id": "Dm0g6Z7lFvO8"
      },
      "execution_count": null,
      "outputs": []
    },
    {
      "cell_type": "code",
      "source": [],
      "metadata": {
        "id": "R-R2cpfkFvRU"
      },
      "execution_count": null,
      "outputs": []
    },
    {
      "cell_type": "code",
      "source": [],
      "metadata": {
        "id": "IhZGzG4HFvTg"
      },
      "execution_count": null,
      "outputs": []
    }
  ]
}