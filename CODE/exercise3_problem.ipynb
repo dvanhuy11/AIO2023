{
  "cells": [
    {
      "cell_type": "markdown",
      "source": [
        "Image Gradient"
      ],
      "metadata": {
        "id": "DPy3cLfq-KGa"
      }
    },
    {
      "cell_type": "code",
      "source": [
        "import cv2\n",
        "from google.colab.patches import cv2_imshow\n",
        "import math \n",
        "from matplotlib import pyplot as plt\n",
        "\n",
        "\n",
        "cat_image = cv2.imread('/content/cat.jpeg', 0)\n",
        "cat_image = cv2.resize(cat_image, (400,400), interpolation = cv2.INTER_AREA)\n",
        "\n",
        "cat_image_list = cat_image.tolist()\n",
        "x_derivative = computeXDerivative(cat_image_list)\n",
        "y_derivative = computeYDerivative(cat_image_list)\n",
        "gradient_magnitude = computeMagniguteXY(cat_image_list)\n",
        "\n",
        "# create figure\n",
        "fig = plt.figure(figsize=(10, 7))\n",
        "\n",
        "# showing image\n",
        "fig.add_subplot(2, 2, 1)\n",
        "plt.imshow(cat_image, cmap=\"gray\")\n",
        "plt.axis('off')\n",
        "plt.title(\"Input image\")\n",
        "\n",
        "fig.add_subplot(2, 2, 2)\n",
        "plt.imshow(x_derivative, cmap=\"gray\")\n",
        "plt.axis('off')\n",
        "plt.title(\"Gradient in X-direction\")\n",
        "\n",
        "fig.add_subplot(2, 2, 3)\n",
        "plt.imshow(y_derivative, cmap=\"gray\")\n",
        "plt.axis('off')\n",
        "plt.title(\"Gradient in X-direction\")\n",
        "\n",
        "fig.add_subplot(2, 2, 4)\n",
        "plt.imshow(gradient_magnitude, cmap=\"gray\")\n",
        "plt.axis('off')\n",
        "plt.title(\"Gradient Magnitude\")\n"
      ],
      "metadata": {
        "id": "zQ8mp8R7-Lko"
      },
      "execution_count": null,
      "outputs": []
    },
    {
      "cell_type": "code",
      "source": [],
      "metadata": {
        "id": "1eEejHKG453J"
      },
      "execution_count": null,
      "outputs": []
    },
    {
      "cell_type": "code",
      "source": [
        "#Caculate gradient in X-direction\n",
        "def computeXDerivative(image):\n",
        "  w = len(image[0])\n",
        "  h = len(image)\n",
        "  x_derivative = [[0]*w for _ in range(h)]\n",
        "\n",
        "  #your code here *********************\n",
        "\n",
        "  return x_derivative\n"
      ],
      "metadata": {
        "id": "nwkomjVe_HOG"
      },
      "execution_count": null,
      "outputs": []
    },
    {
      "cell_type": "code",
      "source": [
        "# Calculate the gradient magnitude\n",
        "def computeMagniguteXY(image):\n",
        "  w = len(image[0])\n",
        "  h = len(image)\n",
        "  gradient_magnitude = [[0]*w for _ in range(h)]\n",
        "\n",
        "    #your code here *********************\n",
        "\n",
        "\n",
        "  return gradient_magnitude\n"
      ],
      "metadata": {
        "id": "KgeHa2HXDQCu"
      },
      "execution_count": null,
      "outputs": []
    },
    {
      "cell_type": "code",
      "source": [
        "#Caculate gradient in Y-direction\n",
        "def computeYDerivative(image):\n",
        "  w = len(image[0])\n",
        "  h = len(image)\n",
        "  y_derivative = [[0]*w for _ in range(h)]\n",
        "\n",
        "  #your code here *********************\n",
        "\n",
        "\n",
        "  return y_derivative\n"
      ],
      "metadata": {
        "id": "TS0d7CHnCRKm"
      },
      "execution_count": null,
      "outputs": []
    },
    {
      "cell_type": "markdown",
      "source": [
        "Convolution"
      ],
      "metadata": {
        "id": "zF5ltKwgwZ0g"
      }
    },
    {
      "cell_type": "code",
      "source": [
        "#Caculate gradient in X-direction\n",
        "def computeGradientUsingConv(image, kernel):\n",
        "  w = len(image[0])\n",
        "  h = len(image)\n",
        "  x_derivative = [[0]*w for _ in range(h)]\n",
        "  k = 1\n",
        "  #your code here *********************\n",
        "\n",
        "  return x_derivative\n"
      ],
      "metadata": {
        "id": "t1tEEFsCwdBp"
      },
      "execution_count": null,
      "outputs": []
    },
    {
      "cell_type": "code",
      "source": [
        "x_kernel = [[0, 0, 0], [-1, 0, 1], [0, 0, 0]]\n",
        "x_gradient = computeGradientUsingConv(cat_image_list, x_kernel)\n",
        "\n",
        "y_kernel = [[0, -1, 0], [0, 0, 0], [0, 1, 0]]\n",
        "\n",
        "y_gradient = computeGradientUsingConv(cat_image_list, y_kernel)\n",
        "\n",
        "fig = plt.figure(figsize=(10, 7))\n",
        "# showing image\n",
        "fig.add_subplot(2, 2, 1)\n",
        "plt.imshow(x_gradient, cmap=\"gray\")\n",
        "plt.axis('off')\n",
        "plt.title(\"X gradient\")\n",
        "\n",
        "fig.add_subplot(2, 2, 2)\n",
        "plt.imshow(y_gradient, cmap=\"gray\")\n",
        "plt.axis('off')\n",
        "plt.title(\"Y gradient\")"
      ],
      "metadata": {
        "id": "ow0GmOaH2MRu"
      },
      "execution_count": null,
      "outputs": []
    }
  ],
  "metadata": {
    "colab": {
      "provenance": []
    },
    "kernelspec": {
      "display_name": "Python 3 (ipykernel)",
      "language": "python",
      "name": "python3"
    },
    "language_info": {
      "codemirror_mode": {
        "name": "ipython",
        "version": 3
      },
      "file_extension": ".py",
      "mimetype": "text/x-python",
      "name": "python",
      "nbconvert_exporter": "python",
      "pygments_lexer": "ipython3",
      "version": "3.9.13"
    }
  },
  "nbformat": 4,
  "nbformat_minor": 0
}